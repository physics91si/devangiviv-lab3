{
 "cells": [
  {
   "cell_type": "markdown",
   "metadata": {},
   "source": [
    "Physics 91SI\n",
    "\n",
    "Spring 2015\n",
    "\n",
    "Lab 2\n",
    "=====\n",
    "\n",
    "Part 1\n",
    "------"
   ]
  },
  {
   "cell_type": "code",
   "execution_count": null,
   "metadata": {
    "collapsed": false
   },
   "outputs": [],
   "source": [
    "# Don't edit this function\n",
    "def load_sample():\n",
    "    \"\"\"Return the entire text of Hamlet in a string.\"\"\"\n",
    "    with open('hamlet.txt') as f:\n",
    "        sample = f.read()\n",
    "    return sample"
   ]
  },
  {
   "cell_type": "code",
   "execution_count": null,
   "metadata": {
    "collapsed": false
   },
   "outputs": [],
   "source": [
    "# Edit this function. \"pass\" tells Python to do nothing.\n",
    "def parse_sample(text, words_only, sort_list):\n",
    "    words = []\n",
    "    start = 0\n",
    "    end = 0\n",
    "    for char in text\n",
    "        if char == ' '\n",
    "            start = end\n",
    "            end = i\n",
    "            newWord = text[start, end]\n",
    "            words.append(newWord)\n",
    "          \n",
    "    if words_only\n",
    "        for word in words\n",
    "            word.lower()\n",
    "            #how to remove punctuation?\n",
    "    if sort_list\n",
    "        l.sort()\n",
    "    return l"
   ]
  },
  {
   "cell_type": "markdown",
   "metadata": {},
   "source": [
    "Part 2\n",
    "------"
   ]
  },
  {
   "cell_type": "code",
   "execution_count": null,
   "metadata": {
    "collapsed": false
   },
   "outputs": [],
   "source": [
    "def count_freq(lst):\n",
    "    \"\"\"Return a dict of word frequencies given a list of words.\n",
    "    \n",
    "    Arguments:\n",
    "    -- lst: a list of strings\n",
    "    \n",
    "    Returns:\n",
    "    -- freq_dict: a dictionary of word: frequency pairs. The keys are strings\n",
    "       containing the words, and the values are integers indicating how many\n",
    "       times each word appears.\n",
    "    \n",
    "    Example:\n",
    "    >>> count_freq(['time', 'after', 'time'])\n",
    "    {'time': 2, 'after': 1}\n",
    "    \"\"\"\n",
    "    pass\n",
    "    \n",
    "def mean(lst):\n",
    "    \"\"\"Return the arithmetic mean of a list of numbers.\"\"\"\n",
    "    pass\n",
    "\n",
    "def stdev(lst):\n",
    "    \"\"\"Return the standard deviation of a list of numbers.\"\"\"\n",
    "    pass\n",
    "\n",
    "def median(lst):\n",
    "    \"\"\"Return the median of a list of numbers.\"\"\"\n",
    "    pass"
   ]
  },
  {
   "cell_type": "markdown",
   "metadata": {},
   "source": [
    "Part 3\n",
    "------"
   ]
  },
  {
   "cell_type": "code",
   "execution_count": null,
   "metadata": {
    "collapsed": false
   },
   "outputs": [],
   "source": [
    "def print_stats(lst):\n",
    "    \"\"\"Print common statistics about the word frequencies of a list of words.\"\"\"\n",
    "    pass"
   ]
  }
 ],
 "metadata": {
  "kernelspec": {
   "display_name": "Python 3",
   "language": "python",
   "name": "python3"
  },
  "language_info": {
   "codemirror_mode": {
    "name": "ipython",
    "version": 3
   },
   "file_extension": ".py",
   "mimetype": "text/x-python",
   "name": "python",
   "nbconvert_exporter": "python",
   "pygments_lexer": "ipython3",
   "version": "3.5.1"
  }
 },
 "nbformat": 4,
 "nbformat_minor": 0
}
